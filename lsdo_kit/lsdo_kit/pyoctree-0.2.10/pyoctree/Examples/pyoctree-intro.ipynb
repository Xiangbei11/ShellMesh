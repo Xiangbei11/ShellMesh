{
 "cells": [
  {
   "cell_type": "markdown",
   "metadata": {},
   "source": [
    "# pyoctree introduction\n",
    "---\n",
    "Requirements:\n",
    "* pyoctree\n",
    "* vtk >= 6.2.0"
   ]
  },
  {
   "cell_type": "code",
   "execution_count": 1,
   "metadata": {},
   "outputs": [
    {
     "ename": "ModuleNotFoundError",
     "evalue": "No module named 'vtkCommonKitPython'",
     "output_type": "error",
     "traceback": [
      "\u001b[0;31m---------------------------------------------------------------------------\u001b[0m",
      "\u001b[0;31mModuleNotFoundError\u001b[0m                       Traceback (most recent call last)",
      "\u001b[0;32m~/Documents/fea mesh/code/pyoctree-0.2.10/pyoctree/Examples/vtk/vtkCommonKit.py\u001b[0m in \u001b[0;36m<module>\u001b[0;34m\u001b[0m\n\u001b[1;32m      4\u001b[0m     \u001b[0;31m# use relative import for installed modules\u001b[0m\u001b[0;34m\u001b[0m\u001b[0;34m\u001b[0m\u001b[0;34m\u001b[0m\u001b[0m\n\u001b[0;32m----> 5\u001b[0;31m     \u001b[0;32mfrom\u001b[0m \u001b[0;34m.\u001b[0m\u001b[0mvtkCommonKitPython\u001b[0m \u001b[0;32mimport\u001b[0m \u001b[0;34m*\u001b[0m\u001b[0;34m\u001b[0m\u001b[0;34m\u001b[0m\u001b[0m\n\u001b[0m\u001b[1;32m      6\u001b[0m \u001b[0;32mexcept\u001b[0m \u001b[0mImportError\u001b[0m\u001b[0;34m:\u001b[0m\u001b[0;34m\u001b[0m\u001b[0;34m\u001b[0m\u001b[0m\n",
      "\u001b[0;31mModuleNotFoundError\u001b[0m: No module named 'vtk.vtkCommonKitPython'",
      "\nDuring handling of the above exception, another exception occurred:\n",
      "\u001b[0;31mModuleNotFoundError\u001b[0m                       Traceback (most recent call last)",
      "\u001b[0;32m<ipython-input-1-9b87e1f1edd2>\u001b[0m in \u001b[0;36m<module>\u001b[0;34m\u001b[0m\n\u001b[1;32m      4\u001b[0m \u001b[0;32mimport\u001b[0m \u001b[0mmatplotlib\u001b[0m\u001b[0;34m.\u001b[0m\u001b[0mpyplot\u001b[0m \u001b[0;32mas\u001b[0m \u001b[0mplt\u001b[0m\u001b[0;34m\u001b[0m\u001b[0;34m\u001b[0m\u001b[0m\n\u001b[1;32m      5\u001b[0m \u001b[0;32mimport\u001b[0m \u001b[0mnumpy\u001b[0m \u001b[0;32mas\u001b[0m \u001b[0mnp\u001b[0m\u001b[0;34m\u001b[0m\u001b[0;34m\u001b[0m\u001b[0m\n\u001b[0;32m----> 6\u001b[0;31m \u001b[0;32mimport\u001b[0m \u001b[0msys\u001b[0m\u001b[0;34m,\u001b[0m \u001b[0mvtk\u001b[0m\u001b[0;34m\u001b[0m\u001b[0;34m\u001b[0m\u001b[0m\n\u001b[0m\u001b[1;32m      7\u001b[0m \u001b[0msys\u001b[0m\u001b[0;34m.\u001b[0m\u001b[0mpath\u001b[0m\u001b[0;34m.\u001b[0m\u001b[0mappend\u001b[0m\u001b[0;34m(\u001b[0m\u001b[0;34m'../'\u001b[0m\u001b[0;34m)\u001b[0m\u001b[0;34m\u001b[0m\u001b[0;34m\u001b[0m\u001b[0m\n\u001b[1;32m      8\u001b[0m \u001b[0;32mimport\u001b[0m \u001b[0mpyoctree\u001b[0m\u001b[0;34m\u001b[0m\u001b[0;34m\u001b[0m\u001b[0m\n",
      "\u001b[0;32m~/Documents/fea mesh/code/pyoctree-0.2.10/pyoctree/Examples/vtk/__init__.py\u001b[0m in \u001b[0;36m<module>\u001b[0;34m\u001b[0m\n\u001b[1;32m      5\u001b[0m \u001b[0;34m\u001b[0m\u001b[0m\n\u001b[1;32m      6\u001b[0m \u001b[0;31m# --------------------------------------\u001b[0m\u001b[0;34m\u001b[0m\u001b[0;34m\u001b[0m\u001b[0;34m\u001b[0m\u001b[0m\n\u001b[0;32m----> 7\u001b[0;31m \u001b[0;32mfrom\u001b[0m \u001b[0;34m.\u001b[0m\u001b[0mvtkCommonKit\u001b[0m \u001b[0;32mimport\u001b[0m \u001b[0;34m*\u001b[0m\u001b[0;34m\u001b[0m\u001b[0;34m\u001b[0m\u001b[0m\n\u001b[0m\u001b[1;32m      8\u001b[0m \u001b[0;32mfrom\u001b[0m \u001b[0;34m.\u001b[0m\u001b[0mvtkFiltersKit\u001b[0m \u001b[0;32mimport\u001b[0m \u001b[0;34m*\u001b[0m\u001b[0;34m\u001b[0m\u001b[0;34m\u001b[0m\u001b[0m\n\u001b[1;32m      9\u001b[0m \u001b[0;32mfrom\u001b[0m \u001b[0;34m.\u001b[0m\u001b[0mvtkImagingKit\u001b[0m \u001b[0;32mimport\u001b[0m \u001b[0;34m*\u001b[0m\u001b[0;34m\u001b[0m\u001b[0;34m\u001b[0m\u001b[0m\n",
      "\u001b[0;32m~/Documents/fea mesh/code/pyoctree-0.2.10/pyoctree/Examples/vtk/vtkCommonKit.py\u001b[0m in \u001b[0;36m<module>\u001b[0;34m\u001b[0m\n\u001b[1;32m      7\u001b[0m     \u001b[0;31m# during build and testing, the modules will be elsewhere,\u001b[0m\u001b[0;34m\u001b[0m\u001b[0;34m\u001b[0m\u001b[0;34m\u001b[0m\u001b[0m\n\u001b[1;32m      8\u001b[0m     \u001b[0;31m# e.g. in lib directory or Release/Debug config directories\u001b[0m\u001b[0;34m\u001b[0m\u001b[0;34m\u001b[0m\u001b[0;34m\u001b[0m\u001b[0m\n\u001b[0;32m----> 9\u001b[0;31m     \u001b[0;32mfrom\u001b[0m \u001b[0mvtkCommonKitPython\u001b[0m \u001b[0;32mimport\u001b[0m \u001b[0;34m*\u001b[0m\u001b[0;34m\u001b[0m\u001b[0;34m\u001b[0m\u001b[0m\n\u001b[0m",
      "\u001b[0;31mModuleNotFoundError\u001b[0m: No module named 'vtkCommonKitPython'"
     ]
    }
   ],
   "source": [
    "# Imports\n",
    "from __future__ import print_function\n",
    "%matplotlib inline\n",
    "import matplotlib.pyplot as plt\n",
    "import numpy as np\n",
    "import sys, vtk\n",
    "sys.path.append('../')\n",
    "import pyoctree\n",
    "from pyoctree import pyoctree as ot"
   ]
  },
  {
   "cell_type": "code",
   "execution_count": 2,
   "metadata": {},
   "outputs": [
    {
     "name": "stdout",
     "output_type": "stream",
     "text": [
      "pyoctree version =  0.2.5\n",
      "vtk version =  7.1.0\n"
     ]
    }
   ],
   "source": [
    "print('pyoctree version = ', pyoctree.__version__)\n",
    "print('vtk version = ', vtk.vtkVersion.GetVTKVersion())"
   ]
  },
  {
   "cell_type": "markdown",
   "metadata": {},
   "source": [
    "## Load 3D model geometry (stl file)"
   ]
  },
  {
   "cell_type": "code",
   "execution_count": 3,
   "metadata": {},
   "outputs": [
    {
     "name": "stdout",
     "output_type": "stream",
     "text": [
      "Number of points    = 38214\n",
      "Number of triangles = 76428\n"
     ]
    }
   ],
   "source": [
    "# Read in stl file using vtk\n",
    "reader = vtk.vtkSTLReader()\n",
    "reader.SetFileName(\"knot.stl\")\n",
    "reader.MergingOn()\n",
    "reader.Update()\n",
    "stl = reader.GetOutput()\n",
    "print(\"Number of points    = %d\" % stl.GetNumberOfPoints())\n",
    "print(\"Number of triangles = %d\" % stl.GetNumberOfCells())"
   ]
  },
  {
   "cell_type": "code",
   "execution_count": 4,
   "metadata": {},
   "outputs": [],
   "source": [
    "# Extract polygon info from stl\n",
    "\n",
    "# 1. Get array of point coordinates\n",
    "numPoints   = stl.GetNumberOfPoints()\n",
    "pointCoords = np.zeros((numPoints,3),dtype=float)\n",
    "for i in range(numPoints):\n",
    "    pointCoords[i,:] = stl.GetPoint(i)\n",
    "    \n",
    "# 2. Get polygon connectivity\n",
    "numPolys     = stl.GetNumberOfCells()\n",
    "connectivity = np.zeros((numPolys,3),dtype=np.int32)\n",
    "for i in range(numPolys):\n",
    "    atri = stl.GetCell(i)\n",
    "    ids = atri.GetPointIds()\n",
    "    for j in range(3):\n",
    "        connectivity[i,j] = ids.GetId(j)"
   ]
  },
  {
   "cell_type": "code",
   "execution_count": 5,
   "metadata": {},
   "outputs": [
    {
     "data": {
      "text/plain": [
       "array([[ 2.54317427,  7.41368246,  2.8599999 ],\n",
       "       [ 2.51169538,  7.40434027,  2.8599999 ],\n",
       "       [ 2.48648334,  7.48027468,  2.8599999 ],\n",
       "       ..., \n",
       "       [ 1.20494771,  8.17073154,  2.8599999 ],\n",
       "       [ 1.20671427,  8.17605209,  2.8599999 ],\n",
       "       [ 1.20778596,  8.18155479,  2.8599999 ]])"
      ]
     },
     "execution_count": 5,
     "metadata": {},
     "output_type": "execute_result"
    }
   ],
   "source": [
    "# Show format of pointCoords\n",
    "pointCoords"
   ]
  },
  {
   "cell_type": "code",
   "execution_count": 6,
   "metadata": {},
   "outputs": [
    {
     "data": {
      "text/plain": [
       "array([[    0,     1,     2],\n",
       "       [    2,     3,     0],\n",
       "       [    3,     4,     0],\n",
       "       ..., \n",
       "       [38182, 38181, 38180],\n",
       "       [38190, 38189, 38187],\n",
       "       [38189, 38188, 38187]])"
      ]
     },
     "execution_count": 6,
     "metadata": {},
     "output_type": "execute_result"
    }
   ],
   "source": [
    "# Show format of connectivity\n",
    "connectivity"
   ]
  },
  {
   "cell_type": "markdown",
   "metadata": {},
   "source": [
    "## Generate octree"
   ]
  },
  {
   "cell_type": "code",
   "execution_count": 7,
   "metadata": {},
   "outputs": [],
   "source": [
    "# Create octree structure containing stl poly mesh\n",
    "tree = ot.PyOctree(pointCoords,connectivity)"
   ]
  },
  {
   "cell_type": "code",
   "execution_count": 8,
   "metadata": {},
   "outputs": [
    {
     "name": "stdout",
     "output_type": "stream",
     "text": [
      "Size of Octree               = 3.115mm\n",
      "Number of Octnodes in Octree = 2497\n",
      "Number of polys in Octree    = 76428\n"
     ]
    }
   ],
   "source": [
    "# Print out basic Octree data\n",
    "print(\"Size of Octree               = %.3fmm\" % tree.root.size)\n",
    "print(\"Number of Octnodes in Octree = %d\" % tree.getNumberOfNodes())\n",
    "print(\"Number of polys in Octree    = %d\" % tree.numPolys)"
   ]
  },
  {
   "cell_type": "markdown",
   "metadata": {},
   "source": [
    "## Explore tree nodes"
   ]
  },
  {
   "cell_type": "code",
   "execution_count": 9,
   "metadata": {},
   "outputs": [
    {
     "name": "stdout",
     "output_type": "stream",
     "text": [
      "<PyOctnode, Id: 0, isLeaf: False, numPolys: 0>\n"
     ]
    }
   ],
   "source": [
    "# Get the root node\n",
    "print(tree.root)"
   ]
  },
  {
   "cell_type": "code",
   "execution_count": 10,
   "metadata": {},
   "outputs": [
    {
     "data": {
      "text/plain": [
       "[<PyOctnode 0-0>,\n",
       " <PyOctnode 0-1>,\n",
       " <PyOctnode 0-2>,\n",
       " <PyOctnode 0-3>,\n",
       " <PyOctnode 0-4>,\n",
       " <PyOctnode 0-5>,\n",
       " <PyOctnode 0-6>,\n",
       " <PyOctnode 0-7>]"
      ]
     },
     "execution_count": 10,
     "metadata": {},
     "output_type": "execute_result"
    }
   ],
   "source": [
    "# Get the branches of the root node, OctNode 0\n",
    "tree.root.branches"
   ]
  },
  {
   "cell_type": "code",
   "execution_count": 11,
   "metadata": {},
   "outputs": [
    {
     "name": "stdout",
     "output_type": "stream",
     "text": [
      "<PyOctnode, Id: 0-0, isLeaf: False, numPolys: 0>\n"
     ]
    }
   ],
   "source": [
    "# Get OctNode 0-0 (first branch of the root node)\n",
    "print(tree.root.branches[0])"
   ]
  },
  {
   "cell_type": "code",
   "execution_count": 12,
   "metadata": {},
   "outputs": [
    {
     "data": {
      "text/plain": [
       "[<PyOctnode 0-0-0>,\n",
       " <PyOctnode 0-0-1>,\n",
       " <PyOctnode 0-0-2>,\n",
       " <PyOctnode 0-0-3>,\n",
       " <PyOctnode 0-0-4>,\n",
       " <PyOctnode 0-0-5>,\n",
       " <PyOctnode 0-0-6>,\n",
       " <PyOctnode 0-0-7>]"
      ]
     },
     "execution_count": 12,
     "metadata": {},
     "output_type": "execute_result"
    }
   ],
   "source": [
    "# Get the branches of OctNode 0-0 (first branch of the root node) using getNodeFromId function\n",
    "tree.getNodeFromId('0-0').branches"
   ]
  },
  {
   "cell_type": "code",
   "execution_count": 13,
   "metadata": {},
   "outputs": [
    {
     "name": "stdout",
     "output_type": "stream",
     "text": [
      "OctNode 0-0-1 is a leaf =  True\n",
      "<PyOctnode, Id: 0-3-1, isLeaf: True, numPolys: 196>\n"
     ]
    }
   ],
   "source": [
    "# An octnode that has no branches is a leaf\n",
    "print('OctNode 0-0-1 is a leaf = ', tree.getNodeFromId('0-3-1').isLeaf)\n",
    "print(tree.getNodeFromId('0-3-1'))"
   ]
  },
  {
   "cell_type": "markdown",
   "metadata": {},
   "source": [
    "## Explore polygons in tree"
   ]
  },
  {
   "cell_type": "code",
   "execution_count": 14,
   "metadata": {},
   "outputs": [
    {
     "data": {
      "text/plain": [
       "[<PyTri 0>,\n",
       " <PyTri 1>,\n",
       " <PyTri 2>,\n",
       " <PyTri 3>,\n",
       " <PyTri 4>,\n",
       " <PyTri 5>,\n",
       " <PyTri 6>,\n",
       " <PyTri 7>,\n",
       " <PyTri 8>,\n",
       " <PyTri 9>]"
      ]
     },
     "execution_count": 14,
     "metadata": {},
     "output_type": "execute_result"
    }
   ],
   "source": [
    "# Get list of first 10 polygons stored in tree\n",
    "tree.polyList[0:10]"
   ]
  },
  {
   "cell_type": "code",
   "execution_count": 15,
   "metadata": {},
   "outputs": [
    {
     "name": "stdout",
     "output_type": "stream",
     "text": [
      "Tri label = 0\n",
      "Vertex coordinates = [2.543, 7.414, 2.860],[2.512, 7.404, 2.860],[2.486, 7.480, 2.860]\n",
      "Face normal direction = [0.00, 0.00, -1.00]\n",
      "Perp. distance from origin = -2.860\n"
     ]
    }
   ],
   "source": [
    "# Get details of the first tri in the tree\n",
    "tri = tree.polyList[0]\n",
    "s = []\n",
    "for i in range(3):\n",
    "    s.append('[%.3f, %.3f, %.3f]' % tuple(tri.vertices[i][:3]))\n",
    "s = ','.join(s)\n",
    "\n",
    "print('Tri label = %d' % tri.label)\n",
    "print('Vertex coordinates = %s' % s)\n",
    "print('Face normal direction = [%.2f, %.2f, %.2f]' % tuple(tri.N))\n",
    "print('Perp. distance from origin = %.3f' % tri.D)"
   ]
  },
  {
   "cell_type": "code",
   "execution_count": 16,
   "metadata": {},
   "outputs": [
    {
     "data": {
      "text/plain": [
       "<PyOctnode 0-3-1>"
      ]
     },
     "execution_count": 16,
     "metadata": {},
     "output_type": "execute_result"
    }
   ],
   "source": [
    "# Find the OctNode that the tri with label=0 lies within\n",
    "tree.getNodesFromLabel(0)"
   ]
  },
  {
   "cell_type": "code",
   "execution_count": 17,
   "metadata": {},
   "outputs": [
    {
     "data": {
      "text/plain": [
       "True"
      ]
     },
     "execution_count": 17,
     "metadata": {},
     "output_type": "execute_result"
    }
   ],
   "source": [
    "# Test if OctNode contains a particular tri label\n",
    "tree.getNodeFromId('0-3-1').hasPolyLabel(0)"
   ]
  },
  {
   "cell_type": "markdown",
   "metadata": {},
   "source": [
    "## Find intersections between 3D object and ray"
   ]
  },
  {
   "cell_type": "code",
   "execution_count": 18,
   "metadata": {},
   "outputs": [],
   "source": [
    "# Create a list containing a single ray\n",
    "xs,xe,ys,ye,zs,ze = stl.GetBounds()\n",
    "x = 0.5*np.mean([xs,xe])\n",
    "y = np.mean([ys,ye])\n",
    "rayPointList = np.array([[[x,y,zs],[x,y,ze]]],dtype=np.float32)"
   ]
  },
  {
   "cell_type": "code",
   "execution_count": 19,
   "metadata": {},
   "outputs": [
    {
     "name": "stdout",
     "output_type": "stream",
     "text": [
      "True\n"
     ]
    }
   ],
   "source": [
    "# Find if an intersection occurred\n",
    "for i in tree.rayIntersections(rayPointList):\n",
    "    print(i==1)"
   ]
  },
  {
   "cell_type": "code",
   "execution_count": 20,
   "metadata": {},
   "outputs": [
    {
     "name": "stdout",
     "output_type": "stream",
     "text": [
      "Intersection coords = [0.75, 7.33, 3.32] ,  Parametric. dist. along ray = 0.46\n",
      "Intersection coords = [0.75, 7.33, 3.64] ,  Parametric. dist. along ray = 0.78\n",
      "Intersection coords = [0.75, 7.33, 3.87] ,  Parametric. dist. along ray = 1.01\n",
      "Intersection coords = [0.75, 7.33, 4.42] ,  Parametric. dist. along ray = 1.56\n"
     ]
    }
   ],
   "source": [
    "# Get intersection points for a single ray\n",
    "ray = rayPointList[0]\n",
    "for i in tree.rayIntersection(ray):\n",
    "    print('Intersection coords = [%.2f, %.2f, %.2f]' % tuple(i.p), ',  Parametric. dist. along ray = %.2f' % i.s)"
   ]
  },
  {
   "cell_type": "markdown",
   "metadata": {},
   "source": [
    "## Write out a vtk file of the octree structure "
   ]
  },
  {
   "cell_type": "code",
   "execution_count": 21,
   "metadata": {
    "collapsed": true
   },
   "outputs": [],
   "source": [
    "# Create a vtk representation of Octree\n",
    "tree.getOctreeRep()"
   ]
  },
  {
   "cell_type": "code",
   "execution_count": null,
   "metadata": {},
   "outputs": [],
   "source": []
  }
 ],
 "metadata": {
  "kernelspec": {
   "display_name": "Python 3",
   "language": "python",
   "name": "python3"
  },
  "language_info": {
   "codemirror_mode": {
    "name": "ipython",
    "version": 3
   },
   "file_extension": ".py",
   "mimetype": "text/x-python",
   "name": "python",
   "nbconvert_exporter": "python",
   "pygments_lexer": "ipython3",
   "version": "3.6.8"
  }
 },
 "nbformat": 4,
 "nbformat_minor": 2
}
