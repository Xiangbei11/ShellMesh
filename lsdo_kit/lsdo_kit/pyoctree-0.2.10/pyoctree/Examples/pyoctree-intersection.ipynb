{
 "cells": [
  {
   "cell_type": "markdown",
   "metadata": {},
   "source": [
    "# pyoctree introduction\n",
    "---\n",
    "Requirements:\n",
    "* pyoctree\n",
    "* vtk >= 6.2.0"
   ]
  },
  {
   "cell_type": "code",
   "execution_count": 1,
   "metadata": {},
   "outputs": [],
   "source": [
    "# Imports\n",
    "from __future__ import print_function\n",
    "%matplotlib inline\n",
    "import matplotlib.pyplot as plt\n",
    "import numpy as np\n",
    "import sys, vtk\n",
    "sys.path.append('../')\n",
    "import pyoctree\n",
    "from pyoctree import pyoctree as ot"
   ]
  },
  {
   "cell_type": "code",
   "execution_count": 2,
   "metadata": {},
   "outputs": [
    {
     "name": "stdout",
     "output_type": "stream",
     "text": [
      "pyoctree version =  0.2.5\n",
      "vtk version =  7.1.0\n"
     ]
    }
   ],
   "source": [
    "print('pyoctree version = ', pyoctree.__version__)\n",
    "print('vtk version = ', vtk.vtkVersion.GetVTKVersion())"
   ]
  },
  {
   "cell_type": "markdown",
   "metadata": {},
   "source": [
    "## Load 3D model geometry (stl file)"
   ]
  },
  {
   "cell_type": "code",
   "execution_count": 3,
   "metadata": {},
   "outputs": [
    {
     "name": "stdout",
     "output_type": "stream",
     "text": [
      "Number of points    = 38214\n",
      "Number of triangles = 76428\n"
     ]
    }
   ],
   "source": [
    "# Read in stl file using vtk\n",
    "reader = vtk.vtkSTLReader()\n",
    "reader.SetFileName(\"knot.stl\")\n",
    "reader.MergingOn()\n",
    "reader.Update()\n",
    "stl = reader.GetOutput()\n",
    "print(\"Number of points    = %d\" % stl.GetNumberOfPoints())\n",
    "print(\"Number of triangles = %d\" % stl.GetNumberOfCells())"
   ]
  },
  {
   "cell_type": "code",
   "execution_count": 4,
   "metadata": {},
   "outputs": [],
   "source": [
    "# Extract polygon info from stl\n",
    "\n",
    "# 1. Get array of point coordinates\n",
    "numPoints   = stl.GetNumberOfPoints()\n",
    "pointCoords = np.zeros((numPoints,3),dtype=float)\n",
    "for i in range(numPoints):\n",
    "    pointCoords[i,:] = stl.GetPoint(i)\n",
    "    \n",
    "# 2. Get polygon connectivity\n",
    "numPolys     = stl.GetNumberOfCells()\n",
    "connectivity = np.zeros((numPolys,3),dtype=np.int32)\n",
    "for i in range(numPolys):\n",
    "    atri = stl.GetCell(i)\n",
    "    ids = atri.GetPointIds()\n",
    "    for j in range(3):\n",
    "        connectivity[i,j] = ids.GetId(j)"
   ]
  },
  {
   "cell_type": "code",
   "execution_count": 5,
   "metadata": {},
   "outputs": [
    {
     "data": {
      "text/plain": [
       "array([[ 2.54317427,  7.41368246,  2.8599999 ],\n",
       "       [ 2.51169538,  7.40434027,  2.8599999 ],\n",
       "       [ 2.48648334,  7.48027468,  2.8599999 ],\n",
       "       ..., \n",
       "       [ 1.20494771,  8.17073154,  2.8599999 ],\n",
       "       [ 1.20671427,  8.17605209,  2.8599999 ],\n",
       "       [ 1.20778596,  8.18155479,  2.8599999 ]])"
      ]
     },
     "execution_count": 5,
     "metadata": {},
     "output_type": "execute_result"
    }
   ],
   "source": [
    "# Show format of pointCoords\n",
    "pointCoords"
   ]
  },
  {
   "cell_type": "code",
   "execution_count": 6,
   "metadata": {},
   "outputs": [
    {
     "data": {
      "text/plain": [
       "array([[    0,     1,     2],\n",
       "       [    2,     3,     0],\n",
       "       [    3,     4,     0],\n",
       "       ..., \n",
       "       [38182, 38181, 38180],\n",
       "       [38190, 38189, 38187],\n",
       "       [38189, 38188, 38187]])"
      ]
     },
     "execution_count": 6,
     "metadata": {},
     "output_type": "execute_result"
    }
   ],
   "source": [
    "# Show format of connectivity\n",
    "connectivity"
   ]
  },
  {
   "cell_type": "markdown",
   "metadata": {},
   "source": [
    "## Generate octree"
   ]
  },
  {
   "cell_type": "code",
   "execution_count": 7,
   "metadata": {},
   "outputs": [],
   "source": [
    "# Create octree structure containing stl poly mesh\n",
    "tree = ot.PyOctree(pointCoords,connectivity)"
   ]
  },
  {
   "cell_type": "code",
   "execution_count": 8,
   "metadata": {},
   "outputs": [
    {
     "name": "stdout",
     "output_type": "stream",
     "text": [
      "Size of Octree               = 3.115mm\n",
      "Number of Octnodes in Octree = 2497\n",
      "Number of polys in Octree    = 76428\n"
     ]
    }
   ],
   "source": [
    "# Print out basic Octree data\n",
    "print(\"Size of Octree               = %.3fmm\" % tree.root.size)\n",
    "print(\"Number of Octnodes in Octree = %d\" % tree.getNumberOfNodes())\n",
    "print(\"Number of polys in Octree    = %d\" % tree.numPolys)"
   ]
  },
  {
   "cell_type": "markdown",
   "metadata": {},
   "source": [
    "## Find intersections between 3D object and ray"
   ]
  },
  {
   "cell_type": "code",
   "execution_count": 9,
   "metadata": {},
   "outputs": [],
   "source": [
    "# Create a list containing a single ray\n",
    "xs,xe,ys,ye,zs,ze = stl.GetBounds()\n",
    "x = 0.5*np.mean([xs,xe])\n",
    "y = np.mean([ys,ye])\n",
    "rayPointList = np.array([[[x,y,zs],[x,y,ze]]],dtype=np.float32)"
   ]
  },
  {
   "cell_type": "code",
   "execution_count": 10,
   "metadata": {},
   "outputs": [
    {
     "name": "stdout",
     "output_type": "stream",
     "text": [
      "True\n"
     ]
    }
   ],
   "source": [
    "# Find if an intersection occurred\n",
    "for i in tree.rayIntersections(rayPointList):\n",
    "    print(i==1)"
   ]
  },
  {
   "cell_type": "code",
   "execution_count": 11,
   "metadata": {},
   "outputs": [
    {
     "name": "stdout",
     "output_type": "stream",
     "text": [
      "Intersected tri = 73584, Intersection coords = [0.75, 7.33, 3.32] ,  Parametric. dist. along ray = 0.46\n",
      "Intersected tri = 70341, Intersection coords = [0.75, 7.33, 3.64] ,  Parametric. dist. along ray = 0.78\n",
      "Intersected tri = 32425, Intersection coords = [0.75, 7.33, 3.87] ,  Parametric. dist. along ray = 1.01\n",
      "Intersected tri = 29843, Intersection coords = [0.75, 7.33, 4.42] ,  Parametric. dist. along ray = 1.56\n"
     ]
    }
   ],
   "source": [
    "# Get intersection points for a single ray\n",
    "ray = rayPointList[0]\n",
    "for i in tree.rayIntersection(ray):\n",
    "    print('Intersected tri = %d,' % i.triLabel, 'Intersection coords = [%.2f, %.2f, %.2f]' % tuple(i.p), ',  Parametric. dist. along ray = %.2f' % i.s)"
   ]
  },
  {
   "cell_type": "code",
   "execution_count": 12,
   "metadata": {},
   "outputs": [
    {
     "data": {
      "text/plain": [
       "[73584, 70341, 32425, 29843]"
      ]
     },
     "execution_count": 12,
     "metadata": {},
     "output_type": "execute_result"
    }
   ],
   "source": [
    "# Get list of intersected triangles\n",
    "triLabelList = [i.triLabel for i in tree.rayIntersection(ray)]\n",
    "triLabelList"
   ]
  },
  {
   "cell_type": "code",
   "execution_count": 13,
   "metadata": {},
   "outputs": [
    {
     "data": {
      "text/plain": [
       "[<PyTri 73584>, <PyTri 70341>, <PyTri 32425>, <PyTri 29843>]"
      ]
     },
     "execution_count": 13,
     "metadata": {},
     "output_type": "execute_result"
    }
   ],
   "source": [
    "# Get tris\n",
    "triList = [tree.polyList[i] for i in triLabelList]\n",
    "triList"
   ]
  },
  {
   "cell_type": "code",
   "execution_count": 14,
   "metadata": {},
   "outputs": [
    {
     "data": {
      "text/plain": [
       "array([ 0.,  0.,  1.], dtype=float32)"
      ]
     },
     "execution_count": 14,
     "metadata": {},
     "output_type": "execute_result"
    }
   ],
   "source": [
    "# Convert ray from start/end points into unit vector\n",
    "from numpy.linalg import norm\n",
    "rayVect = ray[1]-ray[0]\n",
    "rayVect /= norm(rayVect)\n",
    "rayVect"
   ]
  },
  {
   "cell_type": "code",
   "execution_count": 15,
   "metadata": {},
   "outputs": [
    {
     "name": "stdout",
     "output_type": "stream",
     "text": [
      "Tri 73584 face normal is in the opposite direction as the ray i.e. This is an entry point\n",
      "Tri 70341 face normal is in the same direction as ray i.e. This is an exit point.\n",
      "Tri 32425 face normal is in the opposite direction as the ray i.e. This is an entry point\n",
      "Tri 29843 face normal is in the same direction as ray i.e. This is an exit point.\n"
     ]
    }
   ],
   "source": [
    "# Find if tri face normal is in the same direction as the ray\n",
    "for tri in triList:\n",
    "    if np.dot(tri.N,rayVect)>0:\n",
    "        print(\"Tri %d face normal is in the same direction as ray i.e. This is an exit point.\" % tri.label)\n",
    "    else:\n",
    "        print(\"Tri %d face normal is in the opposite direction as the ray i.e. This is an entry point\" % tri.label)"
   ]
  },
  {
   "cell_type": "code",
   "execution_count": null,
   "metadata": {},
   "outputs": [],
   "source": []
  }
 ],
 "metadata": {
  "kernelspec": {
   "display_name": "Python 3",
   "language": "python",
   "name": "python3"
  },
  "language_info": {
   "codemirror_mode": {
    "name": "ipython",
    "version": 3
   },
   "file_extension": ".py",
   "mimetype": "text/x-python",
   "name": "python",
   "nbconvert_exporter": "python",
   "pygments_lexer": "ipython3",
   "version": "3.6.3"
  }
 },
 "nbformat": 4,
 "nbformat_minor": 2
}
